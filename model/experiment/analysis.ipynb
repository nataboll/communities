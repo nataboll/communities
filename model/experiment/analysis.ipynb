{
 "cells": [
  {
   "cell_type": "code",
   "execution_count": 21,
   "metadata": {
    "collapsed": true
   },
   "outputs": [],
   "source": [
    "import numpy as np\n",
    "import json\n",
    "import matplotlib.pylab as plt\n",
    "import scipy.stats as st\n",
    "import random\n",
    "from scipy.stats import poisson\n",
    "\n",
    "%matplotlib inline"
   ]
  },
  {
   "cell_type": "code",
   "execution_count": 2,
   "metadata": {},
   "outputs": [],
   "source": [
    "data = []\n",
    "n = 200\n",
    "it = 100\n",
    "with open('results.out', 'r') as f:\n",
    "    data = json.loads(f.read())\n",
    "\n",
    "res_undir = data[0][0]\n",
    "res_dir = data[0][1]\n",
    "\n",
    "num_undir = data[1][0]\n",
    "num_dir = data[1][1]"
   ]
  },
  {
   "cell_type": "markdown",
   "metadata": {},
   "source": [
    "## Number of clusters:"
   ]
  },
  {
   "cell_type": "code",
   "execution_count": 3,
   "metadata": {
    "collapsed": true
   },
   "outputs": [],
   "source": [
    "# undirected, clusters num\n",
    "\n",
    "l, r = 0, n-1\n",
    "while num_undir[l] == 0:\n",
    "    l += 1\n",
    "while num_undir[r] == 0:\n",
    "    r -= 1\n",
    "\n",
    "num_undir_cut = num_undir[l:r+1]\n",
    "\n",
    "num_undir_data = []\n",
    "for i, times in enumerate(num_undir_cut):\n",
    "    num_undir_data += [i+l,]*times"
   ]
  },
  {
   "cell_type": "code",
   "execution_count": 4,
   "metadata": {
    "collapsed": true
   },
   "outputs": [],
   "source": [
    "# directed, clusters num\n",
    "\n",
    "l_d, r_d = 0, n-1\n",
    "while num_dir[l_d] == 0:\n",
    "    l_d += 1\n",
    "while num_dir[r_d] == 0:\n",
    "    r_d -= 1\n",
    "\n",
    "num_dir_cut = num_dir[l_d:r_d+1]\n",
    "\n",
    "num_dir_data = []\n",
    "for i, times in enumerate(num_dir_cut):\n",
    "    num_dir_data += [i+l_d,]*times"
   ]
  },
  {
   "cell_type": "code",
   "execution_count": 5,
   "metadata": {
    "scrolled": true
   },
   "outputs": [
    {
     "data": {
      "text/plain": [
       "(array([ 1.,  7., 10., 18., 21., 19., 12.,  4.,  4.,  4.]),\n",
       " array([72., 74., 76., 78., 80., 82., 84., 86., 88., 90., 92.]),\n",
       " <a list of 10 Patch objects>)"
      ]
     },
     "execution_count": 5,
     "metadata": {},
     "output_type": "execute_result"
    },
    {
     "data": {
      "image/png": "[encoded data removed]",
      "text/plain": [
       "<matplotlib.figure.Figure at 0x7fd27448df60>"
      ]
     },
     "metadata": {},
     "output_type": "display_data"
    }
   ],
   "source": [
    "plt.hist(num_undir_data) # blue\n",
    "plt.hist(num_dir_data) # yellow"
   ]
  },
  {
   "cell_type": "markdown",
   "metadata": {},
   "source": [
    "### Нормальность:"
   ]
  },
  {
   "cell_type": "markdown",
   "metadata": {},
   "source": [
    "$H_0$: the data was drawn from a normal distribution.\n",
    "\n",
    "If the p-value is less than 0.05, we reject the null hypothesis."
   ]
  },
  {
   "cell_type": "code",
   "execution_count": 6,
   "metadata": {
    "collapsed": true
   },
   "outputs": [],
   "source": [
    "#random.shuffle(num_undir_data)\n",
    "#random.shuffle(num_dir_data)"
   ]
  },
  {
   "cell_type": "code",
   "execution_count": 7,
   "metadata": {},
   "outputs": [
    {
     "data": {
      "text/plain": [
       "((0.895235002040863, 8.497382850691793e-07),\n",
       " (0.9769319295883179, 0.07646987587213516))"
      ]
     },
     "execution_count": 7,
     "metadata": {},
     "output_type": "execute_result"
    }
   ],
   "source": [
    "st.shapiro(num_undir_data), st.shapiro(num_dir_data)"
   ]
  },
  {
   "cell_type": "code",
   "execution_count": 8,
   "metadata": {},
   "outputs": [
    {
     "data": {
      "text/plain": [
       "((2.295202047383598, 0.3173972853522634),\n",
       " (3.0748245879932385, 0.21493657508144248))"
      ]
     },
     "execution_count": 8,
     "metadata": {},
     "output_type": "execute_result"
    }
   ],
   "source": [
    "st.jarque_bera(num_undir_data), st.jarque_bera(num_dir_data)"
   ]
  },
  {
   "cell_type": "markdown",
   "metadata": {},
   "source": [
    "Для неориентированного графа нормальность принять нельзя. Для ориентированного - можно.\n",
    "\n",
    "По второму критерию для обоих можно."
   ]
  },
  {
   "cell_type": "code",
   "execution_count": 9,
   "metadata": {},
   "outputs": [
    {
     "data": {
      "image/png": "[encoded data removed]",
      "text/plain": [
       "<matplotlib.figure.Figure at 0x7fd23b0566a0>"
      ]
     },
     "metadata": {},
     "output_type": "display_data"
    }
   ],
   "source": [
    "qq_points, qq_line = st.probplot(num_undir_data, plot=plt)"
   ]
  },
  {
   "cell_type": "code",
   "execution_count": 10,
   "metadata": {
    "scrolled": true
   },
   "outputs": [
    {
     "data": {
      "image/png": "[encoded data removed]",
      "text/plain": [
       "<matplotlib.figure.Figure at 0x7fd23acdf048>"
      ]
     },
     "metadata": {},
     "output_type": "display_data"
    }
   ],
   "source": [
    "qq_points, qq_line = st.probplot(num_dir_data, plot=plt)"
   ]
  },
  {
   "cell_type": "markdown",
   "metadata": {},
   "source": [
    "### Parameters:"
   ]
  },
  {
   "cell_type": "code",
   "execution_count": 11,
   "metadata": {},
   "outputs": [
    {
     "data": {
      "text/plain": [
       "(5.94, 0.9300809131739587)"
      ]
     },
     "execution_count": 11,
     "metadata": {},
     "output_type": "execute_result"
    }
   ],
   "source": [
    "# undirected\n",
    "\n",
    "m = np.mean(num_undir_data)\n",
    "s = np.std(num_undir_data, ddof=1)\n",
    "\n",
    "m, s"
   ]
  },
  {
   "cell_type": "code",
   "execution_count": 12,
   "metadata": {},
   "outputs": [
    {
     "data": {
      "text/plain": [
       "(81.07, 4.102856851443192)"
      ]
     },
     "execution_count": 12,
     "metadata": {},
     "output_type": "execute_result"
    }
   ],
   "source": [
    "# directed\n",
    "\n",
    "m_d = np.mean(num_dir_data)\n",
    "s_d = np.std(num_dir_data, ddof=1)\n",
    "\n",
    "m_d, s_d"
   ]
  },
  {
   "cell_type": "code",
   "execution_count": 210,
   "metadata": {},
   "outputs": [
    {
     "data": {
      "image/png": "[encoded data removed]",
      "text/plain": [
       "<matplotlib.figure.Figure at 0x7fd2381d39b0>"
      ]
     },
     "metadata": {},
     "output_type": "display_data"
    }
   ],
   "source": [
    "plt.plot([r/it for r in num_undir]) # blue - real data, undirected grephs\n",
    "x = np.linspace(m - 3*s, m + 3*s, 100)\n",
    "plt.plot(x, st.norm.pdf(x, m, s)) # yellow - approximation, undirected grephs\n",
    "\n",
    "x = np.arange(poisson.ppf(0.01, m), poisson.ppf(0.99, m))\n",
    "plt.plot(x, poisson.pmf(x, m), '--', ms=8, label='poisson pmf')\n",
    "\n",
    "# -----\n",
    "\n",
    "plt.plot([r/it for r in num_dir]) # red - real data, directes graphs\n",
    "x_d = np.linspace(m_d - 3*s_d, m_d + 3*s_d, 100)\n",
    "plt.plot(x_d, st.norm.pdf(x_d, m_d, s_d)) # purple - approximation, directes graphs\n",
    "\n",
    "x = np.arange(poisson.ppf(0.01, m_d), poisson.ppf(0.99, m_d))\n",
    "plt.plot(x, poisson.pmf(x, m_d), '--', ms=8, label='poisson pmf')\n",
    "\n",
    "plt.savefig('clusters_num.png')"
   ]
  },
  {
   "cell_type": "markdown",
   "metadata": {},
   "source": [
    "## Size distribution:"
   ]
  },
  {
   "cell_type": "code",
   "execution_count": 45,
   "metadata": {
    "scrolled": false
   },
   "outputs": [],
   "source": [
    "# undirected\n",
    "\n",
    "r = n-1\n",
    "while res_undir[r] == 0:\n",
    "    r -= 1\n",
    "\n",
    "res_undir_cut = res_undir[:r+1]\n",
    "\n",
    "res_undir_data = []\n",
    "l = 0\n",
    "for i, times in enumerate(res_undir_cut):\n",
    "    res_undir_data += [(i+1),]*int(times)\n",
    "    l += times"
   ]
  },
  {
   "cell_type": "code",
   "execution_count": 46,
   "metadata": {
    "collapsed": true
   },
   "outputs": [],
   "source": [
    "# directed\n",
    "\n",
    "r_d = n-1\n",
    "while res_undir[r_d] == 0:\n",
    "    r_d -= 1\n",
    "\n",
    "res_dir_cut = res_dir[:r_d+1]\n",
    "\n",
    "res_dir_data = []\n",
    "for i, times in enumerate(res_dir_cut):\n",
    "    res_dir_data += [(i+1),]*int(times)"
   ]
  },
  {
   "cell_type": "code",
   "execution_count": 38,
   "metadata": {},
   "outputs": [
    {
     "data": {
      "image/png": "[encoded data removed]",
      "text/plain": [
       "<matplotlib.figure.Figure at 0x7fd23abbf048>"
      ]
     },
     "metadata": {},
     "output_type": "display_data"
    },
    {
     "data": {
      "text/plain": [
       "(array([5.064e+03, 1.393e+03, 8.840e+02, 4.830e+02, 2.170e+02, 1.420e+02,\n",
       "        1.400e+01, 6.000e+00, 1.000e+00, 3.000e+00]),\n",
       " array([ 1. ,  2.2,  3.4,  4.6,  5.8,  7. ,  8.2,  9.4, 10.6, 11.8, 13. ]),\n",
       " <a list of 10 Patch objects>)"
      ]
     },
     "execution_count": 38,
     "metadata": {},
     "output_type": "execute_result"
    },
    {
     "data": {
      "image/png": "[encoded data removed]",
      "text/plain": [
       "<matplotlib.figure.Figure at 0x7fd23a8e6a20>"
      ]
     },
     "metadata": {},
     "output_type": "display_data"
    }
   ],
   "source": [
    "plt.hist(res_undir_data) # blue\n",
    "plt.show()\n",
    "plt.hist(res_dir_data) # yellow"
   ]
  },
  {
   "cell_type": "code",
   "execution_count": 52,
   "metadata": {},
   "outputs": [],
   "source": [
    "# average cluster sizes\n",
    "\n",
    "mu = np.mean(res_undir_data)\n",
    "mu_d = np.mean(res_dir_data)"
   ]
  },
  {
   "cell_type": "code",
   "execution_count": 206,
   "metadata": {},
   "outputs": [
    {
     "data": {
      "text/plain": [
       "[<matplotlib.lines.Line2D at 0x7fd238363f28>]"
      ]
     },
     "execution_count": 206,
     "metadata": {},
     "output_type": "execute_result"
    },
    {
     "data": {
      "image/png": "[encoded data removed]",
      "text/plain": [
       "<matplotlib.figure.Figure at 0x7fd2383ebe48>"
      ]
     },
     "metadata": {},
     "output_type": "display_data"
    }
   ],
   "source": [
    "plt.plot([r/(n*it) for r in res_undir])\n",
    "x = np.arange(poisson.ppf(0.01, mu), poisson.ppf(0.99, mu))\n",
    "plt.plot(x, poisson.pmf(x, mu), 'bo', ms=8, label='poisson pmf')"
   ]
  },
  {
   "cell_type": "code",
   "execution_count": 56,
   "metadata": {},
   "outputs": [
    {
     "data": {
      "text/plain": [
       "[<matplotlib.lines.Line2D at 0x7fd23a69aac8>]"
      ]
     },
     "execution_count": 56,
     "metadata": {},
     "output_type": "execute_result"
    },
    {
     "data": {
      "image/png": "[encoded data removed]",
      "text/plain": [
       "<matplotlib.figure.Figure at 0x7fd23a85e400>"
      ]
     },
     "metadata": {},
     "output_type": "display_data"
    }
   ],
   "source": [
    "plt.plot([r/(n*it) for r in res_dir])\n",
    "x = np.arange(poisson.ppf(0.01, mu_d), poisson.ppf(0.99, mu_d))\n",
    "plt.plot(x, poisson.pmf(x, mu_d), 'bo', ms=8, label='poisson pmf')"
   ]
  },
  {
   "cell_type": "markdown",
   "metadata": {},
   "source": [
    "## Clusters number depending on iteration:"
   ]
  },
  {
   "cell_type": "code",
   "execution_count": 62,
   "metadata": {},
   "outputs": [],
   "source": [
    "data = []\n",
    "\n",
    "with open('sizes.out', 'r') as f:\n",
    "    data = json.loads(f.read())"
   ]
  },
  {
   "cell_type": "code",
   "execution_count": 107,
   "metadata": {
    "collapsed": true
   },
   "outputs": [],
   "source": [
    "from scipy.interpolate import interp1d\n",
    "from scipy.interpolate import Rbf"
   ]
  },
  {
   "cell_type": "code",
   "execution_count": 212,
   "metadata": {},
   "outputs": [],
   "source": [
    "x = np.arange(700, len(data), 600)\n",
    "x = np.append(x, len(data)-1)\n",
    "y = data[700::600]\n",
    "y = np.append(y, data[-1])\n",
    "f = interp1d(x, y, kind='cubic')"
   ]
  },
  {
   "cell_type": "code",
   "execution_count": 267,
   "metadata": {
    "scrolled": true
   },
   "outputs": [
    {
     "data": {
      "image/png": "[encoded data removed]",
      "text/plain": [
       "<matplotlib.figure.Figure at 0x7fd236371748>"
      ]
     },
     "metadata": {},
     "output_type": "display_data"
    }
   ],
   "source": [
    "xnew = np.linspace(700, x[-1], num=100000)\n",
    "ynew = f(xnew)   # use interpolation function returned by `interp1d`\n",
    "plt.plot(np.arange(len(data)), data, 'o', xnew, ynew, '-')\n",
    "\n",
    "plt.plot(xnew, 0.000000000000006*xnew**(4.5)+12)\n",
    "\n",
    "plt.savefig('interpolation.png')"
   ]
  },
  {
   "cell_type": "code",
   "execution_count": 169,
   "metadata": {},
   "outputs": [
    {
     "data": {
      "text/plain": [
       "<scipy.interpolate.interpolate.interp1d at 0x7fd238ced278>"
      ]
     },
     "execution_count": 169,
     "metadata": {},
     "output_type": "execute_result"
    }
   ],
   "source": [
    "f"
   ]
  },
  {
   "cell_type": "code",
   "execution_count": null,
   "metadata": {
    "collapsed": true
   },
   "outputs": [],
   "source": []
  }
 ],
 "metadata": {
  "kernelspec": {
   "display_name": "Python 3",
   "language": "python",
   "name": "python3"
  },
  "language_info": {
   "codemirror_mode": {
    "name": "ipython",
    "version": 3
   },
   "file_extension": ".py",
   "mimetype": "text/x-python",
   "name": "python",
   "nbconvert_exporter": "python",
   "pygments_lexer": "ipython3",
   "version": "3.6.8"
  }
 },
 "nbformat": 4,
 "nbformat_minor": 2
}
