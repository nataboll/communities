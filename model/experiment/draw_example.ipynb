{
 "cells": [
  {
   "cell_type": "code",
   "execution_count": 36,
   "metadata": {},
   "outputs": [],
   "source": [
    "from causalgraphicalmodels import CausalGraphicalModel\n",
    "import numpy as np\n",
    "import json\n",
    "import networkx as nx\n",
    "import matplotlib.pyplot as plt\n",
    "from networkx.drawing.nx_pydot import write_dot\n",
    "%matplotlib inline"
   ]
  },
  {
   "cell_type": "code",
   "execution_count": 14,
   "metadata": {
    "collapsed": true
   },
   "outputs": [],
   "source": [
    "def get_matrices(storage_path):\n",
    "    with open(storage_path, 'r') as f:\n",
    "        raw_data = f.read()\n",
    "        if raw_data:\n",
    "            return json.loads(raw_data)\n",
    "    return {}"
   ]
  },
  {
   "cell_type": "code",
   "execution_count": 15,
   "metadata": {
    "collapsed": true
   },
   "outputs": [],
   "source": [
    "storage_path = 'saved.txt'\n",
    "m_s = get_matrices(storage_path)"
   ]
  },
  {
   "cell_type": "code",
   "execution_count": 39,
   "metadata": {},
   "outputs": [],
   "source": [
    "#G = CausalGraphicalModel(nodes=[str(i) for i in range(1, 11)], edges=m_s[0])\n",
    "\n",
    "G = nx.DiGraph()\n",
    "G.add_edges_from(m_s[0])\n",
    "#pos = nx.circular_layout(G)  \n",
    "#nx.draw(G, pos, with_labels = True, edge_color = 'b', arrowsize=20, arrowstyle='-') \n",
    "#nx.draw_networkx(G)\n",
    "write_dot(G,'graph.dot')"
   ]
  },
  {
   "cell_type": "code",
   "execution_count": null,
   "metadata": {
    "collapsed": true
   },
   "outputs": [],
   "source": []
  }
 ],
 "metadata": {
  "kernelspec": {
   "display_name": "Python 3",
   "language": "python",
   "name": "python3"
  },
  "language_info": {
   "codemirror_mode": {
    "name": "ipython",
    "version": 3
   },
   "file_extension": ".py",
   "mimetype": "text/x-python",
   "name": "python",
   "nbconvert_exporter": "python",
   "pygments_lexer": "ipython3",
   "version": "3.6.8"
  }
 },
 "nbformat": 4,
 "nbformat_minor": 2
}
